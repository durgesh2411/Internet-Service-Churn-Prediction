{
 "cells": [
  {
   "attachments": {},
   "cell_type": "markdown",
   "metadata": {},
   "source": [
    "#### Importing Libraries and Dataset"
   ]
  },
  {
   "cell_type": "code",
   "execution_count": 68,
   "metadata": {},
   "outputs": [],
   "source": [
    "import numpy as np                                          # Importing libraries...\n",
    "import pandas as pd\n",
    "import tensorflow as tf\n",
    "from tensorflow import keras\n",
    "from tensorflow.python.keras.callbacks import TensorBoard\n",
    "import matplotlib.pyplot as plt\n",
    "import seaborn as sns\n",
    "import plotly.express as px"
   ]
  },
  {
   "cell_type": "code",
   "execution_count": 69,
   "metadata": {},
   "outputs": [
    {
     "data": {
      "text/plain": [
       "(7043, 21)"
      ]
     },
     "execution_count": 69,
     "metadata": {},
     "output_type": "execute_result"
    }
   ],
   "source": [
    "dataset = pd.read_csv(\"E:/Downloads/Customer-churn.csv\")       # Importing the dataset...\n",
    "dataset.shape"
   ]
  },
  {
   "cell_type": "code",
   "execution_count": 70,
   "metadata": {},
   "outputs": [
    {
     "data": {
      "text/html": [
       "<div>\n",
       "<style scoped>\n",
       "    .dataframe tbody tr th:only-of-type {\n",
       "        vertical-align: middle;\n",
       "    }\n",
       "\n",
       "    .dataframe tbody tr th {\n",
       "        vertical-align: top;\n",
       "    }\n",
       "\n",
       "    .dataframe thead th {\n",
       "        text-align: right;\n",
       "    }\n",
       "</style>\n",
       "<table border=\"1\" class=\"dataframe\">\n",
       "  <thead>\n",
       "    <tr style=\"text-align: right;\">\n",
       "      <th></th>\n",
       "      <th>customerID</th>\n",
       "      <th>gender</th>\n",
       "      <th>SeniorCitizen</th>\n",
       "      <th>Partner</th>\n",
       "      <th>Dependents</th>\n",
       "      <th>tenure</th>\n",
       "      <th>PhoneService</th>\n",
       "      <th>MultipleLines</th>\n",
       "      <th>InternetService</th>\n",
       "      <th>OnlineSecurity</th>\n",
       "      <th>...</th>\n",
       "      <th>DeviceProtection</th>\n",
       "      <th>TechSupport</th>\n",
       "      <th>StreamingTV</th>\n",
       "      <th>StreamingMovies</th>\n",
       "      <th>Contract</th>\n",
       "      <th>PaperlessBilling</th>\n",
       "      <th>PaymentMethod</th>\n",
       "      <th>MonthlyCharges</th>\n",
       "      <th>TotalCharges</th>\n",
       "      <th>Churn</th>\n",
       "    </tr>\n",
       "  </thead>\n",
       "  <tbody>\n",
       "    <tr>\n",
       "      <th>6823</th>\n",
       "      <td>7009-LGECI</td>\n",
       "      <td>Female</td>\n",
       "      <td>0</td>\n",
       "      <td>No</td>\n",
       "      <td>No</td>\n",
       "      <td>4</td>\n",
       "      <td>Yes</td>\n",
       "      <td>No</td>\n",
       "      <td>DSL</td>\n",
       "      <td>Yes</td>\n",
       "      <td>...</td>\n",
       "      <td>No</td>\n",
       "      <td>No</td>\n",
       "      <td>No</td>\n",
       "      <td>No</td>\n",
       "      <td>Month-to-month</td>\n",
       "      <td>Yes</td>\n",
       "      <td>Bank transfer (automatic)</td>\n",
       "      <td>50.55</td>\n",
       "      <td>235.65</td>\n",
       "      <td>No</td>\n",
       "    </tr>\n",
       "    <tr>\n",
       "      <th>458</th>\n",
       "      <td>4237-CLSMM</td>\n",
       "      <td>Male</td>\n",
       "      <td>0</td>\n",
       "      <td>Yes</td>\n",
       "      <td>No</td>\n",
       "      <td>2</td>\n",
       "      <td>Yes</td>\n",
       "      <td>No</td>\n",
       "      <td>No</td>\n",
       "      <td>No internet service</td>\n",
       "      <td>...</td>\n",
       "      <td>No internet service</td>\n",
       "      <td>No internet service</td>\n",
       "      <td>No internet service</td>\n",
       "      <td>No internet service</td>\n",
       "      <td>Month-to-month</td>\n",
       "      <td>No</td>\n",
       "      <td>Mailed check</td>\n",
       "      <td>20.00</td>\n",
       "      <td>38</td>\n",
       "      <td>No</td>\n",
       "    </tr>\n",
       "    <tr>\n",
       "      <th>5581</th>\n",
       "      <td>5271-YNWVR</td>\n",
       "      <td>Male</td>\n",
       "      <td>0</td>\n",
       "      <td>Yes</td>\n",
       "      <td>Yes</td>\n",
       "      <td>68</td>\n",
       "      <td>Yes</td>\n",
       "      <td>Yes</td>\n",
       "      <td>Fiber optic</td>\n",
       "      <td>Yes</td>\n",
       "      <td>...</td>\n",
       "      <td>Yes</td>\n",
       "      <td>Yes</td>\n",
       "      <td>Yes</td>\n",
       "      <td>Yes</td>\n",
       "      <td>Two year</td>\n",
       "      <td>Yes</td>\n",
       "      <td>Electronic check</td>\n",
       "      <td>113.15</td>\n",
       "      <td>7856</td>\n",
       "      <td>Yes</td>\n",
       "    </tr>\n",
       "    <tr>\n",
       "      <th>3605</th>\n",
       "      <td>8148-BPLZQ</td>\n",
       "      <td>Male</td>\n",
       "      <td>0</td>\n",
       "      <td>No</td>\n",
       "      <td>No</td>\n",
       "      <td>34</td>\n",
       "      <td>Yes</td>\n",
       "      <td>No</td>\n",
       "      <td>DSL</td>\n",
       "      <td>No</td>\n",
       "      <td>...</td>\n",
       "      <td>No</td>\n",
       "      <td>No</td>\n",
       "      <td>No</td>\n",
       "      <td>No</td>\n",
       "      <td>Month-to-month</td>\n",
       "      <td>Yes</td>\n",
       "      <td>Electronic check</td>\n",
       "      <td>49.80</td>\n",
       "      <td>1734.2</td>\n",
       "      <td>No</td>\n",
       "    </tr>\n",
       "    <tr>\n",
       "      <th>69</th>\n",
       "      <td>7410-OIEDU</td>\n",
       "      <td>Male</td>\n",
       "      <td>0</td>\n",
       "      <td>No</td>\n",
       "      <td>No</td>\n",
       "      <td>10</td>\n",
       "      <td>Yes</td>\n",
       "      <td>No</td>\n",
       "      <td>Fiber optic</td>\n",
       "      <td>Yes</td>\n",
       "      <td>...</td>\n",
       "      <td>Yes</td>\n",
       "      <td>No</td>\n",
       "      <td>No</td>\n",
       "      <td>No</td>\n",
       "      <td>Month-to-month</td>\n",
       "      <td>Yes</td>\n",
       "      <td>Mailed check</td>\n",
       "      <td>79.85</td>\n",
       "      <td>887.35</td>\n",
       "      <td>No</td>\n",
       "    </tr>\n",
       "  </tbody>\n",
       "</table>\n",
       "<p>5 rows × 21 columns</p>\n",
       "</div>"
      ],
      "text/plain": [
       "      customerID  gender  SeniorCitizen Partner Dependents  tenure  \\\n",
       "6823  7009-LGECI  Female              0      No         No       4   \n",
       "458   4237-CLSMM    Male              0     Yes         No       2   \n",
       "5581  5271-YNWVR    Male              0     Yes        Yes      68   \n",
       "3605  8148-BPLZQ    Male              0      No         No      34   \n",
       "69    7410-OIEDU    Male              0      No         No      10   \n",
       "\n",
       "     PhoneService MultipleLines InternetService       OnlineSecurity  ...  \\\n",
       "6823          Yes            No             DSL                  Yes  ...   \n",
       "458           Yes            No              No  No internet service  ...   \n",
       "5581          Yes           Yes     Fiber optic                  Yes  ...   \n",
       "3605          Yes            No             DSL                   No  ...   \n",
       "69            Yes            No     Fiber optic                  Yes  ...   \n",
       "\n",
       "         DeviceProtection          TechSupport          StreamingTV  \\\n",
       "6823                   No                   No                   No   \n",
       "458   No internet service  No internet service  No internet service   \n",
       "5581                  Yes                  Yes                  Yes   \n",
       "3605                   No                   No                   No   \n",
       "69                    Yes                   No                   No   \n",
       "\n",
       "          StreamingMovies        Contract PaperlessBilling  \\\n",
       "6823                   No  Month-to-month              Yes   \n",
       "458   No internet service  Month-to-month               No   \n",
       "5581                  Yes        Two year              Yes   \n",
       "3605                   No  Month-to-month              Yes   \n",
       "69                     No  Month-to-month              Yes   \n",
       "\n",
       "                  PaymentMethod MonthlyCharges  TotalCharges Churn  \n",
       "6823  Bank transfer (automatic)          50.55        235.65    No  \n",
       "458                Mailed check          20.00            38    No  \n",
       "5581           Electronic check         113.15          7856   Yes  \n",
       "3605           Electronic check          49.80        1734.2    No  \n",
       "69                 Mailed check          79.85        887.35    No  \n",
       "\n",
       "[5 rows x 21 columns]"
      ]
     },
     "execution_count": 70,
     "metadata": {},
     "output_type": "execute_result"
    }
   ],
   "source": [
    "dataset.sample(5)       # Calling sample dataset..."
   ]
  },
  {
   "attachments": {},
   "cell_type": "markdown",
   "metadata": {},
   "source": [
    "#### Data Preprocessing and Pipelining"
   ]
  },
  {
   "cell_type": "code",
   "execution_count": 71,
   "metadata": {},
   "outputs": [],
   "source": [
    "from sklearn.base import BaseEstimator, TransformerMixin     # BaseEstimator and TransformerMixin called...\n",
    "class RemoveColumns(BaseEstimator, TransformerMixin):         # class to remove columns...\n",
    "    def fit(self, X, y=None):\n",
    "        return self\n",
    "    \n",
    "    def transform(self, X):\n",
    "        X = X.drop(columns=\"customerID\", axis=1)\n",
    "        return X"
   ]
  },
  {
   "cell_type": "code",
   "execution_count": 72,
   "metadata": {},
   "outputs": [],
   "source": [
    "class ConvertObjectToNumeric(BaseEstimator, TransformerMixin): # class to covert object to numeric data type...\n",
    "    def fit(self, X, y=None):\n",
    "        return self\n",
    "    \n",
    "    def transform(self, X):       # Converting to Numeric data type of the TotalCharges column...\n",
    "        pd.to_numeric(X.TotalCharges, errors=\"coerce\")\n",
    "        return X"
   ]
  },
  {
   "attachments": {},
   "cell_type": "markdown",
   "metadata": {},
   "source": [
    "    Using Pipelining concept and integrating the Pre-processing classes."
   ]
  },
  {
   "cell_type": "code",
   "execution_count": 73,
   "metadata": {},
   "outputs": [],
   "source": [
    "from sklearn.pipeline import Pipeline\n",
    "Pipe = Pipeline([\n",
    "    (\"Remove\", RemoveColumns()),\n",
    "    (\"Numeric\", ConvertObjectToNumeric())\n",
    "])\n",
    "dataset = Pipe.fit_transform(dataset)      # Fit and Transforming the dataset..."
   ]
  },
  {
   "cell_type": "code",
   "execution_count": 74,
   "metadata": {},
   "outputs": [
    {
     "data": {
      "text/plain": [
       "(7032, 20)"
      ]
     },
     "execution_count": 74,
     "metadata": {},
     "output_type": "execute_result"
    }
   ],
   "source": [
    "dataset = dataset[dataset.TotalCharges != \" \"]     # Removing the null value columns...\n",
    "dataset.shape"
   ]
  },
  {
   "attachments": {},
   "cell_type": "markdown",
   "metadata": {},
   "source": [
    "#### Exploratory Data Analysis (EDA) and One-Hot Encoding"
   ]
  },
  {
   "cell_type": "code",
   "execution_count": 75,
   "metadata": {},
   "outputs": [
    {
     "data": {
      "image/png": "[encoded data removed]",
      "text/plain": [
       "<Figure size 640x480 with 1 Axes>"
      ]
     },
     "metadata": {},
     "output_type": "display_data"
    }
   ],
   "source": [
    "NotLeaving = dataset[dataset.Churn == \"No\"].tenure\n",
    "Leaving = dataset[dataset.Churn == \"Yes\"].tenure\n",
    "plt.xlabel(\"Tenure\")\n",
    "plt.ylabel(\"Number of Customers\")\n",
    "plt.title(\"Customer Churn Analysis\")\n",
    "plt.hist([Leaving, NotLeaving], color=[\"red\", \"green\"], label=[\"Leaving\", \"Not Leaving\"])\n",
    "plt.legend()\n",
    "plt.show()"
   ]
  },
  {
   "attachments": {},
   "cell_type": "markdown",
   "metadata": {},
   "source": [
    "    Intuitions-\n",
    "1. If the customer has stayed for a long time, he/she does not leave the service."
   ]
  },
  {
   "attachments": {},
   "cell_type": "markdown",
   "metadata": {},
   "source": [
    "    Replacing columns data for one-hot encoding."
   ]
  },
  {
   "cell_type": "code",
   "execution_count": 76,
   "metadata": {},
   "outputs": [],
   "source": [
    "dataset.replace(\"No internet service\", \"No\", inplace=True)\n",
    "dataset.replace(\"No phone service\", \"No\", inplace=True)"
   ]
  },
  {
   "attachments": {},
   "cell_type": "markdown",
   "metadata": {},
   "source": [
    "One Hot Encoding of values..."
   ]
  },
  {
   "cell_type": "code",
   "execution_count": 77,
   "metadata": {},
   "outputs": [],
   "source": [
    "YesNo = ['Partner', 'Dependents', 'PhoneService', 'MultipleLines', 'OnlineSecurity', 'OnlineBackup', 'DeviceProtection', 'TechSupport', 'StreamingTV', 'StreamingMovies', 'PaperlessBilling', 'Churn']\n",
    "for col in YesNo:\n",
    "    dataset[col].replace({\"Yes\" : 1, \"No\" : 0}, inplace=True)\n",
    "dataset['gender'].replace({\"Female\" : 1, \"Male\" : 0}, inplace=True)"
   ]
  },
  {
   "cell_type": "code",
   "execution_count": 78,
   "metadata": {},
   "outputs": [],
   "source": [
    "dataset = pd.get_dummies(data=dataset, columns=[\"InternetService\", \"Contract\", \"PaymentMethod\"])     # get_dummies function for one-hot encoding to uni-integer data type..."
   ]
  },
  {
   "cell_type": "code",
   "execution_count": 79,
   "metadata": {},
   "outputs": [
    {
     "name": "stdout",
     "output_type": "stream",
     "text": [
      "gender: int64\n",
      "SeniorCitizen: int64\n",
      "Partner: int64\n",
      "Dependents: int64\n",
      "tenure: int64\n",
      "PhoneService: int64\n",
      "MultipleLines: int64\n",
      "OnlineSecurity: int64\n",
      "OnlineBackup: int64\n",
      "DeviceProtection: int64\n",
      "TechSupport: int64\n",
      "StreamingTV: int64\n",
      "StreamingMovies: int64\n",
      "PaperlessBilling: int64\n",
      "MonthlyCharges: float64\n",
      "TotalCharges: object\n",
      "Churn: int64\n",
      "InternetService_DSL: uint8\n",
      "InternetService_Fiber optic: uint8\n",
      "InternetService_No: uint8\n",
      "Contract_Month-to-month: uint8\n",
      "Contract_One year: uint8\n",
      "Contract_Two year: uint8\n",
      "PaymentMethod_Bank transfer (automatic): uint8\n",
      "PaymentMethod_Credit card (automatic): uint8\n",
      "PaymentMethod_Electronic check: uint8\n",
      "PaymentMethod_Mailed check: uint8\n"
     ]
    }
   ],
   "source": [
    "for col in dataset.columns:\n",
    "    print(f'{col}: {dataset[col].dtype}')     # Format string technique..."
   ]
  },
  {
   "attachments": {},
   "cell_type": "markdown",
   "metadata": {},
   "source": [
    "#### MinMax Scaling and Standardization"
   ]
  },
  {
   "cell_type": "code",
   "execution_count": 80,
   "metadata": {},
   "outputs": [],
   "source": [
    "from sklearn.preprocessing import MinMaxScaler\n",
    "cols = ['tenure', 'MonthlyCharges', 'TotalCharges']"
   ]
  },
  {
   "cell_type": "code",
   "execution_count": 81,
   "metadata": {},
   "outputs": [],
   "source": [
    "MinMax = MinMaxScaler()\n",
    "dataset[cols] = MinMax.fit_transform(dataset[cols])    # MinMax Scaling the columns..."
   ]
  },
  {
   "attachments": {},
   "cell_type": "markdown",
   "metadata": {},
   "source": [
    "#### Machine Learning and Splitting of Dataset into Train and Test dataset"
   ]
  },
  {
   "cell_type": "code",
   "execution_count": 82,
   "metadata": {},
   "outputs": [
    {
     "name": "stdout",
     "output_type": "stream",
     "text": [
      "(7032, 26) (7032, 1)\n"
     ]
    }
   ],
   "source": [
    "Y = np.array(dataset['Churn']).reshape(-1, 1)\n",
    "X = dataset.drop(columns=\"Churn\", axis=\"columns\")\n",
    "print(X.shape, Y.shape)"
   ]
  },
  {
   "cell_type": "code",
   "execution_count": 83,
   "metadata": {},
   "outputs": [
    {
     "name": "stdout",
     "output_type": "stream",
     "text": [
      "(5274, 26) (1758, 26) (5274, 1) (1758, 1)\n"
     ]
    }
   ],
   "source": [
    "from sklearn.model_selection import train_test_split\n",
    "Xtrain, Xtest, Ytrain, Ytest = train_test_split(X, Y, test_size=0.25, random_state=42)\n",
    "print(Xtrain.shape, Xtest.shape, Ytrain.shape, Ytest.shape)"
   ]
  },
  {
   "attachments": {},
   "cell_type": "markdown",
   "metadata": {},
   "source": [
    "#### Deep Learning using Tensorflow and Keras Wrapper Library"
   ]
  },
  {
   "cell_type": "code",
   "execution_count": 84,
   "metadata": {},
   "outputs": [
    {
     "name": "stdout",
     "output_type": "stream",
     "text": [
      "Epoch 1/10\n",
      "165/165 [==============================] - 0s 987us/step - loss: 0.5112 - accuracy: 0.7414\n",
      "Epoch 2/10\n",
      "165/165 [==============================] - 0s 1ms/step - loss: 0.4311 - accuracy: 0.7983\n",
      "Epoch 3/10\n",
      "165/165 [==============================] - 0s 873us/step - loss: 0.4245 - accuracy: 0.7998\n",
      "Epoch 4/10\n",
      "165/165 [==============================] - 0s 878us/step - loss: 0.4197 - accuracy: 0.8028\n",
      "Epoch 5/10\n",
      "165/165 [==============================] - 0s 879us/step - loss: 0.4163 - accuracy: 0.8057\n",
      "Epoch 6/10\n",
      "165/165 [==============================] - 0s 862us/step - loss: 0.4146 - accuracy: 0.8045\n",
      "Epoch 7/10\n",
      "165/165 [==============================] - 0s 1ms/step - loss: 0.4105 - accuracy: 0.8075\n",
      "Epoch 8/10\n",
      "165/165 [==============================] - 0s 893us/step - loss: 0.4086 - accuracy: 0.8058\n",
      "Epoch 9/10\n",
      "165/165 [==============================] - 0s 907us/step - loss: 0.4067 - accuracy: 0.8068\n",
      "Epoch 10/10\n",
      "165/165 [==============================] - 0s 882us/step - loss: 0.4050 - accuracy: 0.8104\n"
     ]
    },
    {
     "data": {
      "text/plain": [
       "<keras.callbacks.History at 0x1ae453f8700>"
      ]
     },
     "execution_count": 84,
     "metadata": {},
     "output_type": "execute_result"
    }
   ],
   "source": [
    "Model = keras.Sequential([\n",
    "    keras.layers.Dense(20, input_shape=(26,), activation=\"relu\"),  # Neurons: 20, Input of Shape: 26\n",
    "    keras.layers.Dense(15, activation=\"relu\"),                     # Neurons: 15, Input: 20\n",
    "    keras.layers.Dense(1, activation=\"sigmoid\")                    # Neurons: 1, Input: 15\n",
    "])\n",
    "Model.compile(\n",
    "    optimizer = \"adam\",\n",
    "    loss = \"binary_crossentropy\",\n",
    "    metrics = ['accuracy']\n",
    ")\n",
    "Model.fit(Xtrain, Ytrain, epochs=10)"
   ]
  },
  {
   "cell_type": "code",
   "execution_count": 85,
   "metadata": {},
   "outputs": [
    {
     "name": "stdout",
     "output_type": "stream",
     "text": [
      "55/55 [==============================] - 0s 792us/step - loss: 0.4329 - accuracy: 0.7878\n"
     ]
    },
    {
     "data": {
      "text/plain": [
       "[0.43286487460136414, 0.7878270745277405]"
      ]
     },
     "execution_count": 85,
     "metadata": {},
     "output_type": "execute_result"
    }
   ],
   "source": [
    "Model.evaluate(Xtest, Ytest)        # Evaluating the Testing dataset..."
   ]
  },
  {
   "cell_type": "code",
   "execution_count": 86,
   "metadata": {},
   "outputs": [
    {
     "name": "stdout",
     "output_type": "stream",
     "text": [
      "55/55 [==============================] - 0s 634us/step\n"
     ]
    }
   ],
   "source": [
    "predict = Model.predict(Xtest)       # Predicting the testing dataset..."
   ]
  },
  {
   "cell_type": "code",
   "execution_count": 87,
   "metadata": {},
   "outputs": [
    {
     "name": "stdout",
     "output_type": "stream",
     "text": [
      "1758\n"
     ]
    }
   ],
   "source": [
    "Ypred = []                  # Getting the Ypred value...\n",
    "for element in predict:\n",
    "    if element > 0.5:\n",
    "        Ypred.append(1)\n",
    "    else:\n",
    "        Ypred.append(0)\n",
    "print(len(Ypred))          # Shape same as the Ytest value (1758, 1)..."
   ]
  },
  {
   "attachments": {},
   "cell_type": "markdown",
   "metadata": {},
   "source": [
    "    Getting the Classification report."
   ]
  },
  {
   "cell_type": "code",
   "execution_count": 88,
   "metadata": {},
   "outputs": [
    {
     "name": "stdout",
     "output_type": "stream",
     "text": [
      "              precision    recall  f1-score   support\n",
      "\n",
      "           0       0.84      0.87      0.86      1300\n",
      "           1       0.60      0.54      0.57       458\n",
      "\n",
      "    accuracy                           0.79      1758\n",
      "   macro avg       0.72      0.71      0.72      1758\n",
      "weighted avg       0.78      0.79      0.78      1758\n",
      "\n"
     ]
    }
   ],
   "source": [
    "from sklearn.metrics import confusion_matrix, classification_report\n",
    "print(classification_report(Ytest, Ypred))"
   ]
  },
  {
   "attachments": {},
   "cell_type": "markdown",
   "metadata": {},
   "source": [
    "    Defining Confusion Matrix:-\n",
    "    1. True Negatives - Negatives (0) classified correctly.\n",
    "    2. False Negatives - Negatives (0) classified incorrectly.\n",
    "    3. False Positives - Positives (1) classified incorrectly.\n",
    "    4. True Positives - Positives (1) classified correctly."
   ]
  },
  {
   "cell_type": "code",
   "execution_count": 92,
   "metadata": {},
   "outputs": [
    {
     "data": {
      "image/png": "[encoded data removed]",
      "text/plain": [
       "<Figure size 600x400 with 2 Axes>"
      ]
     },
     "metadata": {},
     "output_type": "display_data"
    }
   ],
   "source": [
    "cm = tf.math.confusion_matrix(labels=Ytest, predictions=Ypred)\n",
    "plt.figure(figsize=(6, 4))\n",
    "sns.heatmap(cm, cmap=\"magma\", annot=True, fmt=\"d\")\n",
    "plt.xlabel(\"Predicted\")\n",
    "plt.ylabel(\"Actual\")\n",
    "plt.show()"
   ]
  }
 ],
 "metadata": {
  "kernelspec": {
   "display_name": "Python 3",
   "language": "python",
   "name": "python3"
  },
  "language_info": {
   "codemirror_mode": {
    "name": "ipython",
    "version": 3
   },
   "file_extension": ".py",
   "mimetype": "text/x-python",
   "name": "python",
   "nbconvert_exporter": "python",
   "pygments_lexer": "ipython3",
   "version": "3.10.10"
  },
  "orig_nbformat": 4,
  "vscode": {
   "interpreter": {
    "hash": "87970ed34195fef68c8464c6d4e1428c2376dd29de258c9c3dc6f07b1b1cbaab"
   }
  }
 },
 "nbformat": 4,
 "nbformat_minor": 2
}
